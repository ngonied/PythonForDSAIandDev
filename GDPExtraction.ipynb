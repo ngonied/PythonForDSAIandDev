{
 "cells": [
  {
   "cell_type": "code",
   "execution_count": 2,
   "id": "ff48790e-df11-4313-ac8c-d78eda52a998",
   "metadata": {},
   "outputs": [],
   "source": [
    "\n",
    "##An international firm that is looking to expand its business in different \n",
    "##countries across the world has recruited you. I have been hired as a junior\n",
    "##Data Engineer and are tasked with creating a script that can extract the list\n",
    "#of the top 10 largest economies of the world in descending order of their GDPs \n",
    "#in Billion USD (rounded to 2 decimal places), as logged by the International \n",
    "#Monetary Fund (IMF). \n"
   ]
  },
  {
   "cell_type": "code",
   "execution_count": 2,
   "id": "eb024746-3ee1-4eef-bc85-79cae732ec97",
   "metadata": {},
   "outputs": [],
   "source": [
    "import numpy as np\n",
    "import pandas as pd\n",
    "import requests\n",
    "\n",
    "URL=\"https://web.archive.org/web/20230902185326/https://en.wikipedia.org/wiki/List_of_countries_by_GDP_%28nominal%29\""
   ]
  },
  {
   "cell_type": "code",
   "execution_count": 9,
   "id": "a01f4594-6dfe-4bf5-afb2-007daf9470fe",
   "metadata": {},
   "outputs": [],
   "source": [
    "tables = pd.read_html(URL)\n",
    "df = tables[3]\n",
    "df.columns = range(df.shape[1])\n",
    "df = df[[0,2]]\n",
    "df = df.iloc[1:11, :]\n",
    "df.columns = ['Country', 'GDP(Million USD)']"
   ]
  },
  {
   "cell_type": "code",
   "execution_count": 11,
   "id": "af150227-e0bd-453f-b4a7-d14acde87a3e",
   "metadata": {},
   "outputs": [],
   "source": [
    "df['GDP(Million USD)'] = df['GDP(Million USD)'].astype(int)\n"
   ]
  },
  {
   "cell_type": "code",
   "execution_count": 13,
   "id": "400abf5b-26ad-477d-a211-30dd93d02bd1",
   "metadata": {},
   "outputs": [],
   "source": [
    "df[['GDP(Million USD)']] =df[['GDP(Million USD)']]/1000"
   ]
  },
  {
   "cell_type": "code",
   "execution_count": 15,
   "id": "321f68e3",
   "metadata": {},
   "outputs": [],
   "source": [
    "df[['GDP(Million USD)']] =np.round(df[['GDP(Million USD)']], 2)"
   ]
  },
  {
   "cell_type": "code",
   "execution_count": 24,
   "id": "14cb15c1",
   "metadata": {},
   "outputs": [],
   "source": [
    "df = df.rename(columns = {'GDP(Million USD)': 'GDP(Billion USD)'})"
   ]
  },
  {
   "cell_type": "code",
   "execution_count": 27,
   "id": "da241f6a",
   "metadata": {},
   "outputs": [],
   "source": [
    "df.to_csv('./Largest_economies.csv')"
   ]
  },
  {
   "cell_type": "code",
   "execution_count": 26,
   "id": "6d79a636",
   "metadata": {},
   "outputs": [
    {
     "data": {
      "text/html": [
       "<div>\n",
       "<style scoped>\n",
       "    .dataframe tbody tr th:only-of-type {\n",
       "        vertical-align: middle;\n",
       "    }\n",
       "\n",
       "    .dataframe tbody tr th {\n",
       "        vertical-align: top;\n",
       "    }\n",
       "\n",
       "    .dataframe thead th {\n",
       "        text-align: right;\n",
       "    }\n",
       "</style>\n",
       "<table border=\"1\" class=\"dataframe\">\n",
       "  <thead>\n",
       "    <tr style=\"text-align: right;\">\n",
       "      <th></th>\n",
       "      <th>Country</th>\n",
       "      <th>GDP(Billion USD)</th>\n",
       "    </tr>\n",
       "  </thead>\n",
       "  <tbody>\n",
       "    <tr>\n",
       "      <th>1</th>\n",
       "      <td>United States</td>\n",
       "      <td>26854.60</td>\n",
       "    </tr>\n",
       "    <tr>\n",
       "      <th>2</th>\n",
       "      <td>China</td>\n",
       "      <td>19373.59</td>\n",
       "    </tr>\n",
       "    <tr>\n",
       "      <th>3</th>\n",
       "      <td>Japan</td>\n",
       "      <td>4409.74</td>\n",
       "    </tr>\n",
       "    <tr>\n",
       "      <th>4</th>\n",
       "      <td>Germany</td>\n",
       "      <td>4308.85</td>\n",
       "    </tr>\n",
       "    <tr>\n",
       "      <th>5</th>\n",
       "      <td>India</td>\n",
       "      <td>3736.88</td>\n",
       "    </tr>\n",
       "    <tr>\n",
       "      <th>6</th>\n",
       "      <td>United Kingdom</td>\n",
       "      <td>3158.94</td>\n",
       "    </tr>\n",
       "    <tr>\n",
       "      <th>7</th>\n",
       "      <td>France</td>\n",
       "      <td>2923.49</td>\n",
       "    </tr>\n",
       "    <tr>\n",
       "      <th>8</th>\n",
       "      <td>Italy</td>\n",
       "      <td>2169.74</td>\n",
       "    </tr>\n",
       "    <tr>\n",
       "      <th>9</th>\n",
       "      <td>Canada</td>\n",
       "      <td>2089.67</td>\n",
       "    </tr>\n",
       "    <tr>\n",
       "      <th>10</th>\n",
       "      <td>Brazil</td>\n",
       "      <td>2081.24</td>\n",
       "    </tr>\n",
       "  </tbody>\n",
       "</table>\n",
       "</div>"
      ],
      "text/plain": [
       "           Country  GDP(Billion USD)\n",
       "1    United States          26854.60\n",
       "2            China          19373.59\n",
       "3            Japan           4409.74\n",
       "4          Germany           4308.85\n",
       "5            India           3736.88\n",
       "6   United Kingdom           3158.94\n",
       "7           France           2923.49\n",
       "8            Italy           2169.74\n",
       "9           Canada           2089.67\n",
       "10          Brazil           2081.24"
      ]
     },
     "execution_count": 26,
     "metadata": {},
     "output_type": "execute_result"
    }
   ],
   "source": [
    "df"
   ]
  },
  {
   "cell_type": "code",
   "execution_count": null,
   "id": "4cf2749b",
   "metadata": {},
   "outputs": [],
   "source": []
  }
 ],
 "metadata": {
  "kernelspec": {
   "display_name": "Python 3 (ipykernel)",
   "language": "python",
   "name": "python3"
  },
  "language_info": {
   "codemirror_mode": {
    "name": "ipython",
    "version": 3
   },
   "file_extension": ".py",
   "mimetype": "text/x-python",
   "name": "python",
   "nbconvert_exporter": "python",
   "pygments_lexer": "ipython3",
   "version": "3.12.3"
  }
 },
 "nbformat": 4,
 "nbformat_minor": 5
}
