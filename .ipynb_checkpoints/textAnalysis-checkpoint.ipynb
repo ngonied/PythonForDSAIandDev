{
 "cells": [
  {
   "cell_type": "code",
   "execution_count": 1,
   "id": "b623eebc",
   "metadata": {},
   "outputs": [
    {
     "name": "stdout",
     "output_type": "stream",
     "text": [
      "0\n",
      "1\n"
     ]
    }
   ],
   "source": [
    "x = 0 \n",
    "while x < 2: \n",
    "    print(x) \n",
    "    x = x + 1"
   ]
  },
  {
   "cell_type": "code",
   "execution_count": 2,
   "id": "98fa3935",
   "metadata": {},
   "outputs": [
    {
     "name": "stdout",
     "output_type": "stream",
     "text": [
      "x= 1  y= 2\n"
     ]
    }
   ],
   "source": [
    "class Points(object): \n",
    "    def __init__(self, x, y): \n",
    "        self.x = x \n",
    "        self.y = y \n",
    "    def print_point(self): \n",
    "        print('x=', self.x, ' y=', self.y) \n",
    "\n",
    "\n",
    "p1 = Points(1, 2) \n",
    "p1.print_point()"
   ]
  },
  {
   "cell_type": "code",
   "execution_count": 3,
   "id": "a295f62d",
   "metadata": {},
   "outputs": [
    {
     "name": "stdout",
     "output_type": "stream",
     "text": [
      "0 AA\n",
      "1 BB\n",
      "2 CC\n"
     ]
    }
   ],
   "source": [
    "for i, x in enumerate(['A', 'B', 'C']): \n",
    "    print(i, 2 * x)"
   ]
  },
  {
   "cell_type": "code",
   "execution_count": 4,
   "id": "74431537",
   "metadata": {},
   "outputs": [
    {
     "name": "stdout",
     "output_type": "stream",
     "text": [
      "Error: Denominator cannot be 0.\n"
     ]
    }
   ],
   "source": [
    "try:\n",
    "    numerator = 10\n",
    "    denominator = 0\n",
    "    result = numerator / denominator\n",
    "    print(result)\n",
    "except ZeroDivisionError:\n",
    "    print(\"Error: Denominator cannot be 0.\")"
   ]
  },
  {
   "cell_type": "code",
   "execution_count": 1,
   "id": "5552ed8f",
   "metadata": {},
   "outputs": [
    {
     "name": "stdout",
     "output_type": "stream",
     "text": [
      "While BE FORWARD is a well-known platform for used vehicles, including some machinery, you might be looking for platforms with a stronger focus or a wider selection of used industrial machinery, tech equipment, and specialized tools. Here are some potential equivalents or alternative platforms to consider:\n",
      "\n",
      "For Used Industrial Machinery:\n",
      "\n",
      "Machinery Trader: This is a leading marketplace specifically for buying and selling new and used construction equipment, farm equipment, trucks, and trailers. You can find a vast inventory of heavy machinery.\n",
      "Equipment Trader: Similar to Machinery Trader, this platform offers a wide range of new and used equipment, including construction, agriculture, and commercial equipment.\n",
      "IronPlanet: This online marketplace specializes in the auction of used heavy equipment. They are known for their detailed inspection reports and online bidding process.\n",
      "Ritchie Bros. Auctioneers: A global leader in heavy equipment auctions, both live and online. They have a massive inventory and conduct frequent sales worldwide.\n",
      "surplusRECORD: This marketplace focuses on used industrial machinery and equipment from various sectors, including metalworking, plastics, and manufacturing.\n",
      "Bidadoo: An online auction platform for professional construction equipment, rental fleets, and government surplus.\n",
      "Ebay Business & Industrial: While broad, eBay has a significant section for used industrial machinery and equipment, often with competitive pricing. You'll need to filter carefully.\n",
      "For Used Tech Equipment (IT, Electronics, Lab Equipment):\n",
      "\n",
      "eBay: As mentioned above, eBay is a large marketplace where you can find used IT equipment, electronics, lab instruments, and more. Exercise caution and check seller reputations.\n",
      "GovDeals: This platform auctions surplus government and educational IT equipment and other assets. You can often find good deals, but conditions may vary.\n",
      "Liquidation.com: This site holds online auctions for surplus inventory and used assets from businesses, including electronics and IT equipment.\n",
      "Dotmed: Specifically for used medical equipment, but you might find some overlapping lab or diagnostic technology.\n",
      "Test Equipment Depot: While they also sell new equipment, they have a section for used and refurbished test and measurement equipment.\n",
      "BrokerBin: A marketplace for networking and telecommunications equipment, often used or refurbished.\n",
      "General Considerations When Buying Used Machinery and Tech:\n",
      "\n",
      "Inspection: Unlike used cars, inspecting machinery and specialized tech can be more complex. Look for detailed descriptions, photos, and videos. If possible, arrange a physical inspection or consider hiring a third-party inspector.\n",
      "Seller Reputation: Check the seller's ratings, reviews, and history on the platform.\n",
      "Specifications and Compatibility: Ensure the equipment meets your technical requirements and is compatible with your existing systems.\n",
      "Warranty and Returns: Understand the seller's warranty policy (if any) and return options. Used equipment often comes with limited or no warranty.\n",
      "Shipping and Logistics: Factor in the cost and logistics of shipping potentially large and heavy machinery or sensitive electronic equipment, especially if buying internationally.\n",
      "Payment Security: Use secure payment methods offered by the platform.\n",
      "Documentation: Inquire about available manuals, service records, and software licenses.\n",
      "BE FORWARD's Presence in Machinery and Tech:\n",
      "\n",
      "While BE FORWARD primarily focuses on used vehicles, their \"BE FORWARD Store\" does have some listings for used electronics, including PCs, tablets, cameras, and audio equipment. They also have a category for \"Used Machinery,\" which seems to include items like photocopiers and sewing machines, but their selection of heavy industrial machinery might be limited compared to the specialized platforms mentioned above.\n",
      "\n",
      "Therefore, depending on the specific type of used machinery or tech equipment you are looking for, exploring the industry-specific marketplaces and auction sites will likely yield a wider selection and more relevant options than BE FORWARD.\n",
      "\n"
     ]
    }
   ],
   "source": [
    "with open(\"randomfile.txt\", 'r') as file1:\n",
    "    contents = file1.readline()\n",
    "    for i in 20:\n",
    "        print(contents[i])\n",
    "    "
   ]
  },
  {
   "cell_type": "code",
   "execution_count": 2,
   "id": "0cfcb113",
   "metadata": {},
   "outputs": [
    {
     "data": {
      "text/plain": [
       "True"
      ]
     },
     "execution_count": 2,
     "metadata": {},
     "output_type": "execute_result"
    }
   ],
   "source": [
    "file1.closed"
   ]
  },
  {
   "cell_type": "code",
   "execution_count": null,
   "id": "ea025d70",
   "metadata": {},
   "outputs": [],
   "source": []
  }
 ],
 "metadata": {
  "kernelspec": {
   "display_name": "Python 3 (ipykernel)",
   "language": "python",
   "name": "python3"
  },
  "language_info": {
   "codemirror_mode": {
    "name": "ipython",
    "version": 3
   },
   "file_extension": ".py",
   "mimetype": "text/x-python",
   "name": "python",
   "nbconvert_exporter": "python",
   "pygments_lexer": "ipython3",
   "version": "3.12.3"
  }
 },
 "nbformat": 4,
 "nbformat_minor": 5
}
