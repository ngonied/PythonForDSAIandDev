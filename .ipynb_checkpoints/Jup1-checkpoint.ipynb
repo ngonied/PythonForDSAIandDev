{
 "cells": [
  {
   "cell_type": "code",
   "execution_count": 1,
   "id": "4520b834",
   "metadata": {},
   "outputs": [],
   "source": [
    "import re"
   ]
  },
  {
   "cell_type": "code",
   "execution_count": 7,
   "id": "e27450c7",
   "metadata": {},
   "outputs": [],
   "source": [
    "sentence = \"The quick brown fox jumped over the lazy dog 112334\""
   ]
  },
  {
   "cell_type": "code",
   "execution_count": 10,
   "id": "1e728944",
   "metadata": {},
   "outputs": [
    {
     "name": "stdout",
     "output_type": "stream",
     "text": [
      "Match found:\t 112\n"
     ]
    }
   ],
   "source": [
    "pattern = r\"\\d\\d\\d\"\n",
    "\n",
    "result = re.search(pattern, sentence)\n",
    "if result:\n",
    "    print(\"Match found:\\t\", result.group())\n",
    "else:\n",
    "    print(\"Match not found\")"
   ]
  },
  {
   "cell_type": "code",
   "execution_count": 11,
   "id": "49dac5f5",
   "metadata": {},
   "outputs": [
    {
     "name": "stdout",
     "output_type": "stream",
     "text": [
      "Matches:\t [',', ' ', '!']\n"
     ]
    }
   ],
   "source": [
    "patt = r\"\\W\"\n",
    "text = \"Hello, world!\"\n",
    "matches = re.findall(patt, text)\n",
    "print(\"Matches:\\t\", matches)"
   ]
  },
  {
   "cell_type": "code",
   "execution_count": 12,
   "id": "ab968395",
   "metadata": {},
   "outputs": [
    {
     "name": "stdout",
     "output_type": "stream",
     "text": [
      "[' ', ' ', ' ', ' ', ' ', ' ', ' ', ' ', ' ']\n"
     ]
    }
   ],
   "source": [
    "print(re.findall(\" \", sentence))"
   ]
  },
  {
   "cell_type": "code",
   "execution_count": 14,
   "id": "4402b75c",
   "metadata": {},
   "outputs": [
    {
     "name": "stdout",
     "output_type": "stream",
     "text": [
      "The#quick#brown#fox#jumped#over#the#lazy#dog#112334\n"
     ]
    }
   ],
   "source": [
    "print(re.sub(\" \", \"#\", sentence, flags=re.IGNORECASE))"
   ]
  },
  {
   "cell_type": "code",
   "execution_count": 20,
   "id": "b0c4b31d",
   "metadata": {},
   "outputs": [
    {
     "name": "stdout",
     "output_type": "stream",
     "text": [
      "['A', 'B', 'C']\n"
     ]
    }
   ],
   "source": [
    "d = \"ABCDEFGHIJK\"\n",
    "print(list(d[:3]))\n"
   ]
  },
  {
   "cell_type": "code",
   "execution_count": 21,
   "id": "58c49d0a",
   "metadata": {},
   "outputs": [
    {
     "name": "stdout",
     "output_type": "stream",
     "text": [
      "adgjl\n"
     ]
    }
   ],
   "source": [
    "d=\"asdfghjkl\"\n",
    "print(d[::2])"
   ]
  },
  {
   "cell_type": "code",
   "execution_count": 22,
   "id": "05a2387e",
   "metadata": {},
   "outputs": [
    {
     "name": "stdout",
     "output_type": "stream",
     "text": [
      "gdgdg\\\n"
     ]
    }
   ],
   "source": [
    "print(\"gdgdg\\\\\")"
   ]
  },
  {
   "cell_type": "code",
   "execution_count": 23,
   "id": "188d46ee",
   "metadata": {},
   "outputs": [
    {
     "name": "stdout",
     "output_type": "stream",
     "text": [
      "2\n"
     ]
    }
   ],
   "source": [
    "print(str(1+1))"
   ]
  },
  {
   "cell_type": "code",
   "execution_count": 24,
   "id": "f4216e41",
   "metadata": {},
   "outputs": [
    {
     "name": "stdout",
     "output_type": "stream",
     "text": [
      "2\n"
     ]
    }
   ],
   "source": [
    "x = str(1+1)\n",
    "print(x)"
   ]
  },
  {
   "cell_type": "code",
   "execution_count": 25,
   "id": "3b700249",
   "metadata": {},
   "outputs": [
    {
     "name": "stdout",
     "output_type": "stream",
     "text": [
      "<class 'str'>\n"
     ]
    }
   ],
   "source": [
    "print(type(x))"
   ]
  },
  {
   "cell_type": "code",
   "execution_count": 26,
   "id": "898058e2",
   "metadata": {},
   "outputs": [
    {
     "data": {
      "text/plain": [
       "float"
      ]
     },
     "execution_count": 26,
     "metadata": {},
     "output_type": "execute_result"
    }
   ],
   "source": [
    "type(2/2)"
   ]
  },
  {
   "cell_type": "code",
   "execution_count": 28,
   "id": "7a194e81",
   "metadata": {},
   "outputs": [
    {
     "data": {
      "text/plain": [
       "str"
      ]
     },
     "execution_count": 28,
     "metadata": {},
     "output_type": "execute_result"
    }
   ],
   "source": [
    "x = 1+1\n",
    "y = str(x)\n",
    "type(y)"
   ]
  },
  {
   "cell_type": "code",
   "execution_count": 29,
   "id": "0fd4c863",
   "metadata": {},
   "outputs": [
    {
     "name": "stdout",
     "output_type": "stream",
     "text": [
      "Fun P\n"
     ]
    }
   ],
   "source": [
    "x = \"Fun Python\"\n",
    "print(x[0:5])"
   ]
  },
  {
   "cell_type": "code",
   "execution_count": 31,
   "id": "72ca641d",
   "metadata": {},
   "outputs": [
    {
     "name": "stdout",
     "output_type": "stream",
     "text": [
      "()\n"
     ]
    }
   ],
   "source": [
    "tupleOne = (1, 2, \"three\", \"four\", \"Emmerson\", \"Chigananda\")\n",
    "print(tupleOne[3:-1 ])"
   ]
  },
  {
   "cell_type": "code",
   "execution_count": 56,
   "id": "d7293d10",
   "metadata": {},
   "outputs": [
    {
     "name": "stdout",
     "output_type": "stream",
     "text": [
      "['Here', 2, 3, 2, 65565, 'Chienda mbuya']\n",
      "['Here', 2, 3, 2, 65565, 'Chienda mbuya']\n",
      "[1, 2, 3, 2, 65565, 'Chienda mbuya']\n",
      "Help on list object:\n",
      "\n",
      "class list(object)\n",
      " |  list(iterable=(), /)\n",
      " |\n",
      " |  Built-in mutable sequence.\n",
      " |\n",
      " |  If no argument is given, the constructor creates a new empty list.\n",
      " |  The argument must be an iterable if specified.\n",
      " |\n",
      " |  Methods defined here:\n",
      " |\n",
      " |  __add__(self, value, /)\n",
      " |      Return self+value.\n",
      " |\n",
      " |  __contains__(self, key, /)\n",
      " |      Return bool(key in self).\n",
      " |\n",
      " |  __delitem__(self, key, /)\n",
      " |      Delete self[key].\n",
      " |\n",
      " |  __eq__(self, value, /)\n",
      " |      Return self==value.\n",
      " |\n",
      " |  __ge__(self, value, /)\n",
      " |      Return self>=value.\n",
      " |\n",
      " |  __getattribute__(self, name, /)\n",
      " |      Return getattr(self, name).\n",
      " |\n",
      " |  __getitem__(self, index, /)\n",
      " |      Return self[index].\n",
      " |\n",
      " |  __gt__(self, value, /)\n",
      " |      Return self>value.\n",
      " |\n",
      " |  __iadd__(self, value, /)\n",
      " |      Implement self+=value.\n",
      " |\n",
      " |  __imul__(self, value, /)\n",
      " |      Implement self*=value.\n",
      " |\n",
      " |  __init__(self, /, *args, **kwargs)\n",
      " |      Initialize self.  See help(type(self)) for accurate signature.\n",
      " |\n",
      " |  __iter__(self, /)\n",
      " |      Implement iter(self).\n",
      " |\n",
      " |  __le__(self, value, /)\n",
      " |      Return self<=value.\n",
      " |\n",
      " |  __len__(self, /)\n",
      " |      Return len(self).\n",
      " |\n",
      " |  __lt__(self, value, /)\n",
      " |      Return self<value.\n",
      " |\n",
      " |  __mul__(self, value, /)\n",
      " |      Return self*value.\n",
      " |\n",
      " |  __ne__(self, value, /)\n",
      " |      Return self!=value.\n",
      " |\n",
      " |  __repr__(self, /)\n",
      " |      Return repr(self).\n",
      " |\n",
      " |  __reversed__(self, /)\n",
      " |      Return a reverse iterator over the list.\n",
      " |\n",
      " |  __rmul__(self, value, /)\n",
      " |      Return value*self.\n",
      " |\n",
      " |  __setitem__(self, key, value, /)\n",
      " |      Set self[key] to value.\n",
      " |\n",
      " |  __sizeof__(self, /)\n",
      " |      Return the size of the list in memory, in bytes.\n",
      " |\n",
      " |  append(self, object, /)\n",
      " |      Append object to the end of the list.\n",
      " |\n",
      " |  clear(self, /)\n",
      " |      Remove all items from list.\n",
      " |\n",
      " |  copy(self, /)\n",
      " |      Return a shallow copy of the list.\n",
      " |\n",
      " |  count(self, value, /)\n",
      " |      Return number of occurrences of value.\n",
      " |\n",
      " |  extend(self, iterable, /)\n",
      " |      Extend list by appending elements from the iterable.\n",
      " |\n",
      " |  index(self, value, start=0, stop=9223372036854775807, /)\n",
      " |      Return first index of value.\n",
      " |\n",
      " |      Raises ValueError if the value is not present.\n",
      " |\n",
      " |  insert(self, index, object, /)\n",
      " |      Insert object before index.\n",
      " |\n",
      " |  pop(self, index=-1, /)\n",
      " |      Remove and return item at index (default last).\n",
      " |\n",
      " |      Raises IndexError if list is empty or index is out of range.\n",
      " |\n",
      " |  remove(self, value, /)\n",
      " |      Remove first occurrence of value.\n",
      " |\n",
      " |      Raises ValueError if the value is not present.\n",
      " |\n",
      " |  reverse(self, /)\n",
      " |      Reverse *IN PLACE*.\n",
      " |\n",
      " |  sort(self, /, *, key=None, reverse=False)\n",
      " |      Sort the list in ascending order and return None.\n",
      " |\n",
      " |      The sort is in-place (i.e. the list itself is modified) and stable (i.e. the\n",
      " |      order of two equal elements is maintained).\n",
      " |\n",
      " |      If a key function is given, apply it once to each list item and sort them,\n",
      " |      ascending or descending, according to their function values.\n",
      " |\n",
      " |      The reverse flag can be set to sort in descending order.\n",
      " |\n",
      " |  ----------------------------------------------------------------------\n",
      " |  Class methods defined here:\n",
      " |\n",
      " |  __class_getitem__(...)\n",
      " |      See PEP 585\n",
      " |\n",
      " |  ----------------------------------------------------------------------\n",
      " |  Static methods defined here:\n",
      " |\n",
      " |  __new__(*args, **kwargs)\n",
      " |      Create and return a new object.  See help(type) for accurate signature.\n",
      " |\n",
      " |  ----------------------------------------------------------------------\n",
      " |  Data and other attributes defined here:\n",
      " |\n",
      " |  __hash__ = None\n",
      "\n"
     ]
    }
   ],
   "source": [
    "myList = [1,2,3,2,65565]\n",
    "myList.extend([\"Chienda mbuya\"])\n",
    "aliasTuple = myList\n",
    "looseList = myList[:]\n",
    "myList[0] = \"Here\"\n",
    "print(myList)\n",
    "print(aliasTuple)\n",
    "print(looseList)\n",
    "help(myList)"
   ]
  },
  {
   "cell_type": "code",
   "execution_count": 36,
   "id": "bc1c4b55",
   "metadata": {},
   "outputs": [
    {
     "data": {
      "text/plain": [
       "('disco', 10, 1.2)"
      ]
     },
     "execution_count": 36,
     "metadata": {},
     "output_type": "execute_result"
    }
   ],
   "source": [
    "tuple1 = (\"disco\", 10, 1.2)\n",
    "tuple1"
   ]
  },
  {
   "cell_type": "code",
   "execution_count": 37,
   "id": "834902c6",
   "metadata": {},
   "outputs": [
    {
     "data": {
      "text/plain": [
       "tuple"
      ]
     },
     "execution_count": 37,
     "metadata": {},
     "output_type": "execute_result"
    }
   ],
   "source": [
    "type(tuple1)"
   ]
  },
  {
   "cell_type": "code",
   "execution_count": 40,
   "id": "a1b61a05",
   "metadata": {},
   "outputs": [
    {
     "data": {
      "text/plain": [
       "[1, 2, 3, 4, 5, 6, 6, 7, 8, 98]"
      ]
     },
     "execution_count": 40,
     "metadata": {},
     "output_type": "execute_result"
    }
   ],
   "source": [
    "my_list = [1,2,3,4,5,6,7,8,98]\n",
    "my_list.insert(2, 6)\n",
    "my_list.sort()\n",
    "my_list"
   ]
  },
  {
   "cell_type": "code",
   "execution_count": 41,
   "id": "1c738842",
   "metadata": {},
   "outputs": [
    {
     "data": {
      "text/plain": [
       "[1, 2, 3, 1, 1, 1]"
      ]
     },
     "execution_count": 41,
     "metadata": {},
     "output_type": "execute_result"
    }
   ],
   "source": [
    "[1,2,3] + [1,1,1]"
   ]
  },
  {
   "cell_type": "code",
   "execution_count": 48,
   "id": "6059df59",
   "metadata": {},
   "outputs": [
    {
     "name": "stdout",
     "output_type": "stream",
     "text": [
      "dict_keys(['firstName', 'surname', 'nickname'])\n",
      "dict_values(['Ngonied', 'Chizororo', 'MG'])\n"
     ]
    },
    {
     "data": {
      "text/plain": [
       "'Chizororo'"
      ]
     },
     "execution_count": 48,
     "metadata": {},
     "output_type": "execute_result"
    }
   ],
   "source": [
    "dictionary = {\"firstName\": \"Ngonied\", \"surname\": \"Chizororo\", \"nickname\": \"MG\"} \n",
    "key = dictionary.keys()\n",
    "val = dictionary.values()\n",
    "print(key)\n",
    "print (val)\n",
    "dictionary[\"surname\"]"
   ]
  },
  {
   "cell_type": "code",
   "execution_count": 58,
   "id": "a19ab4fc",
   "metadata": {},
   "outputs": [],
   "source": [
    "release_year_dict = {\"Thriller\": \"1982\", \"Back in Black\": \"1980\", \\\n",
    "                    \"The Dark Side of the Moon\": \"1973\", \"The Bodyguard\": \"1992\", \\\n",
    "                    \"Bat Out of Hell\": \"1977\", \"Their Greatest Hits (1971-1975)\": \"1976\", \\\n",
    "                    \"Saturday Night Fever\": \"1977\", \"Rumours\": \"1977\"}"
   ]
  },
  {
   "cell_type": "code",
   "execution_count": 59,
   "id": "7b189a9d",
   "metadata": {},
   "outputs": [],
   "source": [
    "x  = set(list(release_year_dict.keys()))"
   ]
  },
  {
   "cell_type": "code",
   "execution_count": 53,
   "id": "e36739f2",
   "metadata": {},
   "outputs": [
    {
     "data": {
      "text/plain": [
       "{'Back in Black',\n",
       " 'Bat Out of Hell',\n",
       " 'Rumours',\n",
       " 'Saturday Night Fever',\n",
       " 'The Bodyguard',\n",
       " 'The Dark Side of the Moon',\n",
       " 'Their Greatest Hits (1971-1975)',\n",
       " 'Thriller'}"
      ]
     },
     "execution_count": 53,
     "metadata": {},
     "output_type": "execute_result"
    }
   ],
   "source": [
    "x\n"
   ]
  },
  {
   "cell_type": "code",
   "execution_count": 60,
   "id": "eb074e6b",
   "metadata": {},
   "outputs": [],
   "source": [
    "x.add(\"Charakupa\")"
   ]
  },
  {
   "cell_type": "code",
   "execution_count": 57,
   "id": "8d225853",
   "metadata": {},
   "outputs": [
    {
     "data": {
      "text/plain": [
       "{'Back in Black',\n",
       " 'Bat Out of Hell',\n",
       " 'Charakupa',\n",
       " 'Rumours',\n",
       " 'Saturday Night Fever',\n",
       " 'The Bodyguard',\n",
       " 'The Dark Side of the Moon',\n",
       " 'Their Greatest Hits (1971-1975)',\n",
       " 'Thriller'}"
      ]
     },
     "execution_count": 57,
     "metadata": {},
     "output_type": "execute_result"
    }
   ],
   "source": [
    "x"
   ]
  },
  {
   "cell_type": "code",
   "execution_count": 61,
   "id": "1348213c",
   "metadata": {},
   "outputs": [
    {
     "data": {
      "text/plain": [
       "{'Back in Black',\n",
       " 'Bat Out of Hell',\n",
       " 'Charakupa',\n",
       " 'Rumours',\n",
       " 'Saturday Night Fever',\n",
       " 'The Dark Side of the Moon',\n",
       " 'Their Greatest Hits (1971-1975)',\n",
       " 'Thriller'}"
      ]
     },
     "execution_count": 61,
     "metadata": {},
     "output_type": "execute_result"
    }
   ],
   "source": [
    "x.remove(\"The Bodyguard\")\n",
    "x"
   ]
  },
  {
   "cell_type": "code",
   "execution_count": 59,
   "id": "1a1a6758",
   "metadata": {},
   "outputs": [],
   "source": [
    "p = \"Charakupa\" in x"
   ]
  },
  {
   "cell_type": "code",
   "execution_count": 60,
   "id": "eccfbb33",
   "metadata": {},
   "outputs": [
    {
     "data": {
      "text/plain": [
       "True"
      ]
     },
     "execution_count": 60,
     "metadata": {},
     "output_type": "execute_result"
    }
   ],
   "source": [
    "p"
   ]
  },
  {
   "cell_type": "code",
   "execution_count": 61,
   "id": "b947aa57",
   "metadata": {},
   "outputs": [
    {
     "data": {
      "text/plain": [
       "{'Charakupa'}"
      ]
     },
     "execution_count": 61,
     "metadata": {},
     "output_type": "execute_result"
    }
   ],
   "source": [
    "machesoAlbums = {\"Charakupa\", \"Magariro\", \"Ndezvashe\"}\n",
    "machesoAlbums & x"
   ]
  },
  {
   "cell_type": "code",
   "execution_count": 57,
   "id": "10f7f3d3",
   "metadata": {},
   "outputs": [
    {
     "ename": "NameError",
     "evalue": "name 'machesoAlbums' is not defined",
     "output_type": "error",
     "traceback": [
      "\u001b[0;31m---------------------------------------------------------------------------\u001b[0m",
      "\u001b[0;31mNameError\u001b[0m                                 Traceback (most recent call last)",
      "Cell \u001b[0;32mIn[57], line 1\u001b[0m\n\u001b[0;32m----> 1\u001b[0m s \u001b[38;5;241m=\u001b[39m \u001b[43mmachesoAlbums\u001b[49m\u001b[38;5;241m.\u001b[39munion(x)\n",
      "\u001b[0;31mNameError\u001b[0m: name 'machesoAlbums' is not defined"
     ]
    }
   ],
   "source": [
    "s = machesoAlbums.union(x)"
   ]
  },
  {
   "cell_type": "code",
   "execution_count": 63,
   "id": "95c95d2f",
   "metadata": {},
   "outputs": [
    {
     "data": {
      "text/plain": [
       "{'Back in Black',\n",
       " 'Bat Out of Hell',\n",
       " 'Charakupa',\n",
       " 'Magariro',\n",
       " 'Ndezvashe',\n",
       " 'Rumours',\n",
       " 'Saturday Night Fever',\n",
       " 'The Dark Side of the Moon',\n",
       " 'Their Greatest Hits (1971-1975)',\n",
       " 'Thriller'}"
      ]
     },
     "execution_count": 63,
     "metadata": {},
     "output_type": "execute_result"
    }
   ],
   "source": [
    "s"
   ]
  },
  {
   "cell_type": "code",
   "execution_count": 65,
   "id": "94122cbc",
   "metadata": {},
   "outputs": [
    {
     "data": {
      "text/plain": [
       "{'Magariro', 'Ndezvashe'}"
      ]
     },
     "execution_count": 65,
     "metadata": {},
     "output_type": "execute_result"
    }
   ],
   "source": [
    "machesoAlbums.difference(x)"
   ]
  },
  {
   "cell_type": "code",
   "execution_count": 1,
   "id": "a6c982d6",
   "metadata": {},
   "outputs": [
    {
     "data": {
      "text/plain": [
       "False"
      ]
     },
     "execution_count": 1,
     "metadata": {},
     "output_type": "execute_result"
    }
   ],
   "source": [
    "7>89"
   ]
  },
  {
   "cell_type": "code",
   "execution_count": 4,
   "id": "f497b2e7",
   "metadata": {},
   "outputs": [
    {
     "data": {
      "text/plain": [
       "True"
      ]
     },
     "execution_count": 4,
     "metadata": {},
     "output_type": "execute_result"
    }
   ],
   "source": [
    "3!=8"
   ]
  },
  {
   "cell_type": "code",
   "execution_count": 5,
   "id": "62a3e64c",
   "metadata": {},
   "outputs": [
    {
     "name": "stdout",
     "output_type": "stream",
     "text": [
      "CONDITIONS AND BRANCHING\n"
     ]
    }
   ],
   "source": [
    "print(\"CONDITIONS AND BRANCHING\")"
   ]
  },
  {
   "cell_type": "code",
   "execution_count": 6,
   "id": "98c38e85",
   "metadata": {},
   "outputs": [
    {
     "data": {
      "text/plain": [
       "True"
      ]
     },
     "execution_count": 6,
     "metadata": {},
     "output_type": "execute_result"
    }
   ],
   "source": [
    "\"A\"<'B'"
   ]
  },
  {
   "cell_type": "code",
   "execution_count": 7,
   "id": "3660af0a",
   "metadata": {},
   "outputs": [
    {
     "data": {
      "text/plain": [
       "True"
      ]
     },
     "execution_count": 7,
     "metadata": {},
     "output_type": "execute_result"
    }
   ],
   "source": [
    "'K'<'k'"
   ]
  },
  {
   "cell_type": "code",
   "execution_count": 8,
   "id": "c3b5747c",
   "metadata": {},
   "outputs": [
    {
     "ename": "SyntaxError",
     "evalue": "cannot assign to literal here. Maybe you meant '==' instead of '='? (3293032332.py, line 1)",
     "output_type": "error",
     "traceback": [
      "\u001b[0;36m  Cell \u001b[0;32mIn[8], line 1\u001b[0;36m\u001b[0m\n\u001b[0;31m    1=2\u001b[0m\n\u001b[0m    ^\u001b[0m\n\u001b[0;31mSyntaxError\u001b[0m\u001b[0;31m:\u001b[0m cannot assign to literal here. Maybe you meant '==' instead of '='?\n"
     ]
    }
   ],
   "source": [
    "1=2"
   ]
  },
  {
   "cell_type": "code",
   "execution_count": 12,
   "id": "bb161ef6",
   "metadata": {},
   "outputs": [
    {
     "data": {
      "text/plain": [
       "range"
      ]
     },
     "execution_count": 12,
     "metadata": {},
     "output_type": "execute_result"
    }
   ],
   "source": [
    "type(range(5))"
   ]
  },
  {
   "cell_type": "code",
   "execution_count": 15,
   "id": "5c4e25e7",
   "metadata": {},
   "outputs": [
    {
     "name": "stdout",
     "output_type": "stream",
     "text": [
      "At index 0 there is a red square\n",
      "At index 1 there is a green square\n",
      "At index 2 there is a ellow square\n"
     ]
    }
   ],
   "source": [
    "squares = [\"red\", \"green\", \"ellow\"]\n",
    "for i, square in enumerate(squares):\n",
    "    print(f\"At index {i} there is a {square} square\")"
   ]
  },
  {
   "cell_type": "code",
   "execution_count": 18,
   "id": "591a622d",
   "metadata": {},
   "outputs": [
    {
     "data": {
      "text/plain": [
       "2"
      ]
     },
     "execution_count": 18,
     "metadata": {},
     "output_type": "execute_result"
    }
   ],
   "source": [
    "count = 1\n",
    "count+=1\n",
    "count"
   ]
  },
  {
   "cell_type": "code",
   "execution_count": 19,
   "id": "779c160a",
   "metadata": {},
   "outputs": [
    {
     "name": "stdout",
     "output_type": "stream",
     "text": [
      "Functions\n"
     ]
    }
   ],
   "source": [
    "print(\"Functions\")"
   ]
  },
  {
   "cell_type": "code",
   "execution_count": 24,
   "id": "7faf30d3",
   "metadata": {},
   "outputs": [
    {
     "name": "stdout",
     "output_type": "stream",
     "text": [
      "-28\n"
     ]
    }
   ],
   "source": [
    "def discriminant(a, b, c):\n",
    "    disc = (b**2)-4*a*c\n",
    "    return disc\n",
    "\n",
    "print(discriminant(1,2,8))"
   ]
  },
  {
   "cell_type": "code",
   "execution_count": 30,
   "id": "fd4f9006",
   "metadata": {},
   "outputs": [
    {
     "name": "stdout",
     "output_type": "stream",
     "text": [
      "There is John\n",
      "There is Tendai\n"
     ]
    },
    {
     "data": {
      "text/plain": [
       "('Tendai',)"
      ]
     },
     "execution_count": 30,
     "metadata": {},
     "output_type": "execute_result"
    }
   ],
   "source": [
    "def printNames(*names):\n",
    "    for name in names:\n",
    "        print(f\"There is {name}\")\n",
    "        return names\n",
    "    \n",
    "printNames(\"John\", \"Peter\", \"Luke\")\n",
    "printNames(\"Tendai\")"
   ]
  },
  {
   "cell_type": "code",
   "execution_count": 33,
   "id": "0791b7c2",
   "metadata": {},
   "outputs": [
    {
     "name": "stdout",
     "output_type": "stream",
     "text": [
      "There is John\n",
      "There is Peter\n",
      "There is Luke\n"
     ]
    },
    {
     "data": {
      "text/plain": [
       "('John', 'Peter', 'Luke')"
      ]
     },
     "execution_count": 33,
     "metadata": {},
     "output_type": "execute_result"
    }
   ],
   "source": [
    "def printNames(*names):\n",
    "    for name in names:\n",
    "        print(f\"There is {name}\")\n",
    "    return names\n",
    "    \n",
    "printNames(\"John\", \"Peter\", \"Luke\")\n",
    "#printNames(\"Tendai\")"
   ]
  },
  {
   "cell_type": "code",
   "execution_count": 44,
   "id": "99389af6",
   "metadata": {},
   "outputs": [],
   "source": [
    "def quadratic(a=1,b,c):\n",
    "    solution = {}\n",
    "    if a<0:\n",
    "        solution[\"Shape\"] = \"The graph is sad\"\n",
    "    else:\n",
    "        solution[\"Shape\"]=\"The graph is smiling\"\n",
    "    disc = (b**2)-4*a*c\n",
    "    if disc > 0:\n",
    "        root1 = (-b+(disc)**(1/2))/(2*a)\n",
    "        root2 = (-b-(disc)**(1/2))/(2*a)\n",
    "        solution[\"root1\"] = root1\n",
    "        solution[\"root2\"] = root2\n",
    "        solution[\"nature\"] = \"Two real roots\"\n",
    "    elif disc == 0:\n",
    "        solution[\"root\"] = (-b/(2*a))\n",
    "        solution[\"nature\"] = \"One repeated root\"\n",
    "    else:\n",
    "        solution[\"nature\"] = \"No real roots\"\n",
    "    \n",
    "    print(\"Solution to equation:\")\n",
    "    \n",
    "    for key, value in solution.items():\n",
    "        print(f\"{key}: {value}\")\n",
    "        \n",
    "    return(solution)\n",
    "     "
   ]
  },
  {
   "cell_type": "code",
   "execution_count": 47,
   "id": "816d7a85",
   "metadata": {},
   "outputs": [
    {
     "name": "stdout",
     "output_type": "stream",
     "text": [
      "Solution to equation:\n",
      "Shape: The graph is smiling\n",
      "nature: No real roots\n"
     ]
    }
   ],
   "source": [
    "quadratic(4,6,9)"
   ]
  },
  {
   "cell_type": "code",
   "execution_count": 48,
   "id": "e0cd90c8",
   "metadata": {},
   "outputs": [],
   "source": [
    "def mean(*args):\n",
    "    return(sum(args)/len(args))"
   ]
  },
  {
   "cell_type": "code",
   "execution_count": 49,
   "id": "0d3a9aff",
   "metadata": {},
   "outputs": [
    {
     "data": {
      "text/plain": [
       "52.666666666666664"
      ]
     },
     "execution_count": 49,
     "metadata": {},
     "output_type": "execute_result"
    }
   ],
   "source": [
    "mean(45,46,67)"
   ]
  },
  {
   "cell_type": "code",
   "execution_count": 50,
   "id": "33b91398",
   "metadata": {},
   "outputs": [
    {
     "data": {
      "text/plain": [
       "1"
      ]
     },
     "execution_count": 50,
     "metadata": {},
     "output_type": "execute_result"
    }
   ],
   "source": [
    "len([sum([1,1,1])])"
   ]
  },
  {
   "cell_type": "code",
   "execution_count": 51,
   "id": "f7f3a4dd",
   "metadata": {},
   "outputs": [],
   "source": [
    "L = [1,3,2]"
   ]
  },
  {
   "cell_type": "code",
   "execution_count": 52,
   "id": "eb8c87e0",
   "metadata": {},
   "outputs": [
    {
     "data": {
      "text/plain": [
       "[1, 2, 3]"
      ]
     },
     "execution_count": 52,
     "metadata": {},
     "output_type": "execute_result"
    }
   ],
   "source": [
    "sorted(L)"
   ]
  },
  {
   "cell_type": "code",
   "execution_count": 53,
   "id": "606c3565",
   "metadata": {},
   "outputs": [
    {
     "data": {
      "text/plain": [
       "[1, 3, 2]"
      ]
     },
     "execution_count": 53,
     "metadata": {},
     "output_type": "execute_result"
    }
   ],
   "source": [
    "L"
   ]
  },
  {
   "cell_type": "code",
   "execution_count": 54,
   "id": "eecae6c7",
   "metadata": {},
   "outputs": [
    {
     "ename": "ModuleNotFoundError",
     "evalue": "No module named 'open'",
     "output_type": "error",
     "traceback": [
      "\u001b[0;31m---------------------------------------------------------------------------\u001b[0m",
      "\u001b[0;31mModuleNotFoundError\u001b[0m                       Traceback (most recent call last)",
      "Cell \u001b[0;32mIn[54], line 1\u001b[0m\n\u001b[0;32m----> 1\u001b[0m \u001b[38;5;28;01mimport\u001b[39;00m \u001b[38;5;21;01mopen\u001b[39;00m\n",
      "\u001b[0;31mModuleNotFoundError\u001b[0m: No module named 'open'"
     ]
    }
   ],
   "source": []
  },
  {
   "cell_type": "code",
   "execution_count": 55,
   "id": "d202fef9",
   "metadata": {},
   "outputs": [
    {
     "ename": "NameError",
     "evalue": "name 'my_list' is not defined",
     "output_type": "error",
     "traceback": [
      "\u001b[0;31m---------------------------------------------------------------------------\u001b[0m",
      "\u001b[0;31mNameError\u001b[0m                                 Traceback (most recent call last)",
      "Cell \u001b[0;32mIn[55], line 1\u001b[0m\n\u001b[0;32m----> 1\u001b[0m \u001b[43mmy_list\u001b[49m\n",
      "\u001b[0;31mNameError\u001b[0m: name 'my_list' is not defined"
     ]
    }
   ],
   "source": [
    "my_list"
   ]
  },
  {
   "cell_type": "code",
   "execution_count": 62,
   "id": "dfc35372",
   "metadata": {},
   "outputs": [
    {
     "data": {
      "text/plain": [
       "{'Back in Black',\n",
       " 'Bat Out of Hell',\n",
       " 'Charakupa',\n",
       " 'Rumours',\n",
       " 'Saturday Night Fever',\n",
       " 'The Dark Side of the Moon',\n",
       " 'Their Greatest Hits (1971-1975)',\n",
       " 'Thriller'}"
      ]
     },
     "execution_count": 62,
     "metadata": {},
     "output_type": "execute_result"
    }
   ],
   "source": [
    "x"
   ]
  },
  {
   "cell_type": "code",
   "execution_count": 6,
   "id": "4a6356f5",
   "metadata": {},
   "outputs": [],
   "source": [
    "class Circle(object):\n",
    "    \n",
    "    def __init__(self, radius, color):\n",
    "        self.radius = radius\n",
    "        self.color = color\n",
    "    def add_radius(self, r):\n",
    "        self.radius = self.radius + r\n",
    "\n",
    "class Rectangle(object):\n",
    "    \n",
    "    def __init__(self, width, height, color):\n",
    "        self.width = width\n",
    "        self.height = height\n",
    "        self.color = color"
   ]
  },
  {
   "cell_type": "code",
   "execution_count": 8,
   "id": "484c72d2",
   "metadata": {},
   "outputs": [],
   "source": [
    "RedCircle = Circle(10, \"red\")"
   ]
  },
  {
   "cell_type": "code",
   "execution_count": 9,
   "id": "0e43870a",
   "metadata": {},
   "outputs": [],
   "source": [
    "RedCircle.add_radius(5)\n"
   ]
  },
  {
   "cell_type": "code",
   "execution_count": 10,
   "id": "d5d2070f",
   "metadata": {},
   "outputs": [
    {
     "data": {
      "text/plain": [
       "15"
      ]
     },
     "execution_count": 10,
     "metadata": {},
     "output_type": "execute_result"
    }
   ],
   "source": [
    "RedCircle.radius"
   ]
  },
  {
   "cell_type": "code",
   "execution_count": 11,
   "id": "5d8b4abf",
   "metadata": {},
   "outputs": [
    {
     "data": {
      "text/plain": [
       "['__class__',\n",
       " '__delattr__',\n",
       " '__dict__',\n",
       " '__dir__',\n",
       " '__doc__',\n",
       " '__eq__',\n",
       " '__format__',\n",
       " '__ge__',\n",
       " '__getattribute__',\n",
       " '__getstate__',\n",
       " '__gt__',\n",
       " '__hash__',\n",
       " '__init__',\n",
       " '__init_subclass__',\n",
       " '__le__',\n",
       " '__lt__',\n",
       " '__module__',\n",
       " '__ne__',\n",
       " '__new__',\n",
       " '__reduce__',\n",
       " '__reduce_ex__',\n",
       " '__repr__',\n",
       " '__setattr__',\n",
       " '__sizeof__',\n",
       " '__str__',\n",
       " '__subclasshook__',\n",
       " '__weakref__',\n",
       " 'add_radius']"
      ]
     },
     "execution_count": 11,
     "metadata": {},
     "output_type": "execute_result"
    }
   ],
   "source": [
    "dir(Circle)"
   ]
  },
  {
   "cell_type": "code",
   "execution_count": 12,
   "id": "9f96a587",
   "metadata": {},
   "outputs": [
    {
     "data": {
      "text/plain": [
       "['__class__',\n",
       " '__delattr__',\n",
       " '__dict__',\n",
       " '__dir__',\n",
       " '__doc__',\n",
       " '__eq__',\n",
       " '__format__',\n",
       " '__ge__',\n",
       " '__getattribute__',\n",
       " '__getstate__',\n",
       " '__gt__',\n",
       " '__hash__',\n",
       " '__init__',\n",
       " '__init_subclass__',\n",
       " '__le__',\n",
       " '__lt__',\n",
       " '__module__',\n",
       " '__ne__',\n",
       " '__new__',\n",
       " '__reduce__',\n",
       " '__reduce_ex__',\n",
       " '__repr__',\n",
       " '__setattr__',\n",
       " '__sizeof__',\n",
       " '__str__',\n",
       " '__subclasshook__',\n",
       " '__weakref__',\n",
       " 'add_radius',\n",
       " 'color',\n",
       " 'radius']"
      ]
     },
     "execution_count": 12,
     "metadata": {},
     "output_type": "execute_result"
    }
   ],
   "source": [
    "dir(RedCircle)"
   ]
  },
  {
   "cell_type": "code",
   "execution_count": 2,
   "id": "5c05ccda",
   "metadata": {},
   "outputs": [
    {
     "name": "stderr",
     "output_type": "stream",
     "text": [
      "Matplotlib is building the font cache; this may take a moment.\n"
     ]
    }
   ],
   "source": [
    "import matplotlib.pyplot as plt"
   ]
  },
  {
   "cell_type": "code",
   "execution_count": null,
   "id": "11278a88",
   "metadata": {},
   "outputs": [],
   "source": [
    "class Circle(object):\n",
    "    \n",
    "    def __init__(self, radius, color):\n",
    "        self.radius = radius\n",
    "        self.color = color\n",
    "    def add_radius(self, r):\n",
    "        self.radius = self.radius + r\n",
    "        return(self.radius)\n",
    "\n",
    "class Rectangle(object):\n",
    "    \n",
    "    def __init__(self, width, height, color):\n",
    "        self.width = width\n",
    "        self.height = height\n",
    "        self.color = color"
   ]
  }
 ],
 "metadata": {
  "kernelspec": {
   "display_name": "Python 3 (ipykernel)",
   "language": "python",
   "name": "python3"
  },
  "language_info": {
   "codemirror_mode": {
    "name": "ipython",
    "version": 3
   },
   "file_extension": ".py",
   "mimetype": "text/x-python",
   "name": "python",
   "nbconvert_exporter": "python",
   "pygments_lexer": "ipython3",
   "version": "3.12.3"
  }
 },
 "nbformat": 4,
 "nbformat_minor": 5
}
