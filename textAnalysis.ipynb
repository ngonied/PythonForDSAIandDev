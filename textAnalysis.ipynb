{
 "cells": [
  {
   "cell_type": "code",
   "execution_count": 1,
   "id": "b623eebc",
   "metadata": {},
   "outputs": [
    {
     "name": "stdout",
     "output_type": "stream",
     "text": [
      "0\n",
      "1\n"
     ]
    }
   ],
   "source": [
    "x = 0 \n",
    "while x < 2: \n",
    "    print(x) \n",
    "    x = x + 1"
   ]
  },
  {
   "cell_type": "code",
   "execution_count": 2,
   "id": "98fa3935",
   "metadata": {},
   "outputs": [
    {
     "name": "stdout",
     "output_type": "stream",
     "text": [
      "x= 1  y= 2\n"
     ]
    }
   ],
   "source": [
    "class Points(object): \n",
    "    def __init__(self, x, y): \n",
    "        self.x = x \n",
    "        self.y = y \n",
    "    def print_point(self): \n",
    "        print('x=', self.x, ' y=', self.y) \n",
    "\n",
    "\n",
    "p1 = Points(1, 2) \n",
    "p1.print_point()"
   ]
  },
  {
   "cell_type": "code",
   "execution_count": 3,
   "id": "a295f62d",
   "metadata": {},
   "outputs": [
    {
     "name": "stdout",
     "output_type": "stream",
     "text": [
      "0 AA\n",
      "1 BB\n",
      "2 CC\n"
     ]
    }
   ],
   "source": [
    "for i, x in enumerate(['A', 'B', 'C']): \n",
    "    print(i, 2 * x)"
   ]
  },
  {
   "cell_type": "code",
   "execution_count": 4,
   "id": "74431537",
   "metadata": {},
   "outputs": [
    {
     "name": "stdout",
     "output_type": "stream",
     "text": [
      "Error: Denominator cannot be 0.\n"
     ]
    }
   ],
   "source": [
    "try:\n",
    "    numerator = 10\n",
    "    denominator = 0\n",
    "    result = numerator / denominator\n",
    "    print(result)\n",
    "except ZeroDivisionError:\n",
    "    print(\"Error: Denominator cannot be 0.\")"
   ]
  },
  {
   "cell_type": "code",
   "execution_count": 11,
   "id": "5552ed8f",
   "metadata": {},
   "outputs": [
    {
     "name": "stdout",
     "output_type": "stream",
     "text": [
      "While BE FORWARD is a well-known platform for used vehicles, including some machinery, you might be looking for platforms with a stronger focus or a wider selection of used industrial machinery, tech equipment, and specialized tools. Here are some potential equivalents or alternative platforms to consider:\n",
      "\n",
      "\n",
      "\n",
      "For Used Industrial Machinery:\n",
      "\n",
      "\n",
      "\n",
      "Machinery Trader: This is a leading marketplace specifically for buying and selling new and used construction equipment, farm equipment, trucks, and trailers. You can find a vast inventory of heavy machinery.\n",
      "\n",
      "Equipment Trader: Similar to Machinery Trader, this platform offers a wide range of new and used equipment, including construction, agriculture, and commercial equipment.\n",
      "\n",
      "IronPlanet: This online marketplace specializes in the auction of used heavy equipment. They are known for their detailed inspection reports and online bidding process.\n",
      "\n",
      "Ritchie Bros. Auctioneers: A global leader in heavy equipment auctions, both live and online. They have a massive inventory and conduct frequent sales worldwide.\n",
      "\n",
      "surplusRECORD: This marketplace focuses on used industrial machinery and equipment from various sectors, including metalworking, plastics, and manufacturing.\n",
      "\n",
      "Bidadoo: An online auction platform for professional construction equipment, rental fleets, and government surplus.\n",
      "\n",
      "Ebay Business & Industrial: While broad, eBay has a significant section for used industrial machinery and equipment, often with competitive pricing. You'll need to filter carefully.\n",
      "\n",
      "For Used Tech Equipment (IT, Electronics, Lab Equipment):\n",
      "\n",
      "\n",
      "\n"
     ]
    }
   ],
   "source": [
    "with open(\"randomfile.txt\", 'r') as file1:\n",
    "    contents1 = file1.readline()\n",
    "    print(contents1)\n",
    "    contents2 = file1.readline()\n",
    "    print(contents2)\n",
    "    contents3 = file1.readline()\n",
    "    print(contents3)\n",
    "    for i in range(10):\n",
    "        print(file1.readline())\n",
    "    "
   ]
  },
  {
   "cell_type": "code",
   "execution_count": 15,
   "id": "58d58ea8",
   "metadata": {},
   "outputs": [
    {
     "name": "stdout",
     "output_type": "stream",
     "text": [
      " BE FORWARD\n"
     ]
    }
   ],
   "source": [
    "with open(\"randomfile.txt\", 'r') as file1:\n",
    "    file1.seek(5)\n",
    "    print(file1.read(11))"
   ]
  },
  {
   "cell_type": "code",
   "execution_count": 16,
   "id": "dbf11ca3",
   "metadata": {},
   "outputs": [
    {
     "ename": "ModuleNotFoundError",
     "evalue": "No module named 'pyodide'",
     "output_type": "error",
     "traceback": [
      "\u001b[0;31m---------------------------------------------------------------------------\u001b[0m",
      "\u001b[0;31mModuleNotFoundError\u001b[0m                       Traceback (most recent call last)",
      "Cell \u001b[0;32mIn[16], line 1\u001b[0m\n\u001b[0;32m----> 1\u001b[0m \u001b[38;5;28;01mfrom\u001b[39;00m \u001b[38;5;21;01mpyodide\u001b[39;00m\u001b[38;5;21;01m.\u001b[39;00m\u001b[38;5;21;01mhttp\u001b[39;00m \u001b[38;5;28;01mimport\u001b[39;00m pyfetch\n",
      "\u001b[0;31mModuleNotFoundError\u001b[0m: No module named 'pyodide'"
     ]
    }
   ],
   "source": [
    "from pyodide.http import pyfetch"
   ]
  },
  {
   "cell_type": "code",
   "execution_count": 18,
   "id": "7f441823",
   "metadata": {},
   "outputs": [],
   "source": [
    "import pandas as pd"
   ]
  },
  {
   "cell_type": "code",
   "execution_count": null,
   "id": "7d34e651",
   "metadata": {},
   "outputs": [],
   "source": []
  }
 ],
 "metadata": {
  "kernelspec": {
   "display_name": "Python 3 (ipykernel)",
   "language": "python",
   "name": "python3"
  },
  "language_info": {
   "codemirror_mode": {
    "name": "ipython",
    "version": 3
   },
   "file_extension": ".py",
   "mimetype": "text/x-python",
   "name": "python",
   "nbconvert_exporter": "python",
   "pygments_lexer": "ipython3",
   "version": "3.12.3"
  }
 },
 "nbformat": 4,
 "nbformat_minor": 5
}
